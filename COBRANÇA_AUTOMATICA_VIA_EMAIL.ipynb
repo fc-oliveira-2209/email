{
 "cells": [
  {
   "cell_type": "markdown",
   "id": "741337d7",
   "metadata": {},
   "source": [
    "## Instalando a biblioteca: "
   ]
  },
  {
   "cell_type": "code",
   "execution_count": 1,
   "id": "065b4942",
   "metadata": {},
   "outputs": [
    {
     "name": "stdout",
     "output_type": "stream",
     "text": [
      "Requirement already satisfied: pywin32 in c:\\users\\anali\\anaconda3\\lib\\site-packages (302)\n"
     ]
    }
   ],
   "source": [
    "!pip install pywin32"
   ]
  },
  {
   "cell_type": "markdown",
   "id": "fc3d46f5",
   "metadata": {},
   "source": [
    "## Importando as bibliotecas:"
   ]
  },
  {
   "cell_type": "code",
   "execution_count": 6,
   "id": "78773003",
   "metadata": {},
   "outputs": [],
   "source": [
    "import win32com.client as client\n",
    "import pandas as pd\n",
    "import datetime as dt"
   ]
  },
  {
   "cell_type": "markdown",
   "id": "a3db560c",
   "metadata": {},
   "source": [
    "## Lendo o arquivo excel:"
   ]
  },
  {
   "cell_type": "code",
   "execution_count": 7,
   "id": "6270d8d8",
   "metadata": {
    "scrolled": true
   },
   "outputs": [
    {
     "data": {
      "text/html": [
       "<div>\n",
       "<style scoped>\n",
       "    .dataframe tbody tr th:only-of-type {\n",
       "        vertical-align: middle;\n",
       "    }\n",
       "\n",
       "    .dataframe tbody tr th {\n",
       "        vertical-align: top;\n",
       "    }\n",
       "\n",
       "    .dataframe thead th {\n",
       "        text-align: right;\n",
       "    }\n",
       "</style>\n",
       "<table border=\"1\" class=\"dataframe\">\n",
       "  <thead>\n",
       "    <tr style=\"text-align: right;\">\n",
       "      <th></th>\n",
       "      <th>CPF</th>\n",
       "      <th>Valor em aberto</th>\n",
       "      <th>Data Prevista para pagamento</th>\n",
       "      <th>Status</th>\n",
       "      <th>E-mail</th>\n",
       "      <th>NF</th>\n",
       "    </tr>\n",
       "  </thead>\n",
       "  <tbody>\n",
       "    <tr>\n",
       "      <th>0</th>\n",
       "      <td>44204824413</td>\n",
       "      <td>1195</td>\n",
       "      <td>2022-01-23</td>\n",
       "      <td>Em aberto</td>\n",
       "      <td>fabio.oliveira2209@gmail.com</td>\n",
       "      <td>197</td>\n",
       "    </tr>\n",
       "    <tr>\n",
       "      <th>1</th>\n",
       "      <td>27333842934</td>\n",
       "      <td>1670</td>\n",
       "      <td>2022-01-26</td>\n",
       "      <td>Em aberto</td>\n",
       "      <td>l3assessoriavirtual@gmail.com</td>\n",
       "      <td>177</td>\n",
       "    </tr>\n",
       "    <tr>\n",
       "      <th>2</th>\n",
       "      <td>27337412934</td>\n",
       "      <td>1345</td>\n",
       "      <td>2022-01-12</td>\n",
       "      <td>Em aberto</td>\n",
       "      <td>instituto.l3.comercial@gmail.com</td>\n",
       "      <td>133</td>\n",
       "    </tr>\n",
       "    <tr>\n",
       "      <th>3</th>\n",
       "      <td>53713111219</td>\n",
       "      <td>1372</td>\n",
       "      <td>2022-01-24</td>\n",
       "      <td>Em aberto</td>\n",
       "      <td>issagabriela2803@gmail.com</td>\n",
       "      <td>155</td>\n",
       "    </tr>\n",
       "    <tr>\n",
       "      <th>4</th>\n",
       "      <td>17537122867</td>\n",
       "      <td>1718</td>\n",
       "      <td>2022-01-31</td>\n",
       "      <td>Em aberto</td>\n",
       "      <td>larabeatrizoliveira2108@gmail.com</td>\n",
       "      <td>149</td>\n",
       "    </tr>\n",
       "  </tbody>\n",
       "</table>\n",
       "</div>"
      ],
      "text/plain": [
       "           CPF  Valor em aberto Data Prevista para pagamento     Status  \\\n",
       "0  44204824413             1195                   2022-01-23  Em aberto   \n",
       "1  27333842934             1670                   2022-01-26  Em aberto   \n",
       "2  27337412934             1345                   2022-01-12  Em aberto   \n",
       "3  53713111219             1372                   2022-01-24  Em aberto   \n",
       "4  17537122867             1718                   2022-01-31  Em aberto   \n",
       "\n",
       "                              E-mail   NF  \n",
       "0       fabio.oliveira2209@gmail.com  197  \n",
       "1      l3assessoriavirtual@gmail.com  177  \n",
       "2   instituto.l3.comercial@gmail.com  133  \n",
       "3         issagabriela2803@gmail.com  155  \n",
       "4  larabeatrizoliveira2108@gmail.com  149  "
      ]
     },
     "metadata": {},
     "output_type": "display_data"
    }
   ],
   "source": [
    "tabela = pd.read_excel('Contas a Receber.xlsx')\n",
    "display(tabela)"
   ]
  },
  {
   "cell_type": "code",
   "execution_count": 8,
   "id": "c467209c",
   "metadata": {},
   "outputs": [
    {
     "name": "stdout",
     "output_type": "stream",
     "text": [
      "<class 'pandas.core.frame.DataFrame'>\n",
      "RangeIndex: 5 entries, 0 to 4\n",
      "Data columns (total 6 columns):\n",
      " #   Column                        Non-Null Count  Dtype         \n",
      "---  ------                        --------------  -----         \n",
      " 0   CPF                           5 non-null      int64         \n",
      " 1   Valor em aberto               5 non-null      int64         \n",
      " 2   Data Prevista para pagamento  5 non-null      datetime64[ns]\n",
      " 3   Status                        5 non-null      object        \n",
      " 4   E-mail                        5 non-null      object        \n",
      " 5   NF                            5 non-null      int64         \n",
      "dtypes: datetime64[ns](1), int64(3), object(2)\n",
      "memory usage: 368.0+ bytes\n"
     ]
    }
   ],
   "source": [
    "tabela.info()"
   ]
  },
  {
   "cell_type": "markdown",
   "id": "e5cf1a90",
   "metadata": {},
   "source": [
    "## Verificando Data de hoje:"
   ]
  },
  {
   "cell_type": "code",
   "execution_count": 9,
   "id": "ad3deb29",
   "metadata": {},
   "outputs": [
    {
     "name": "stdout",
     "output_type": "stream",
     "text": [
      "2022-09-28 15:10:12.119740\n"
     ]
    }
   ],
   "source": [
    "hoje = dt.datetime.now()\n",
    "print(hoje)"
   ]
  },
  {
   "cell_type": "markdown",
   "id": "67a37fc5",
   "metadata": {},
   "source": [
    "## Coletando apenas os dados de clientes que estão devendo:"
   ]
  },
  {
   "cell_type": "markdown",
   "id": "deacbea6",
   "metadata": {},
   "source": [
    "## Autenticando:"
   ]
  },
  {
   "cell_type": "code",
   "execution_count": 16,
   "id": "560e7ebb",
   "metadata": {},
   "outputs": [],
   "source": [
    "outlook = client.Dispatch('Outlook.Application')"
   ]
  },
  {
   "cell_type": "code",
   "execution_count": 17,
   "id": "18d7e9b5",
   "metadata": {},
   "outputs": [],
   "source": [
    "emissor = outlook.session.Accounts['fabio.oliveira@velosonet.com.br']"
   ]
  },
  {
   "cell_type": "code",
   "execution_count": 15,
   "id": "bd328592",
   "metadata": {
    "scrolled": false
   },
   "outputs": [],
   "source": [
    "dados = tabela[['Valor em aberto','Data Prevista para pagamento','E-mail','NF']].values.tolist()"
   ]
  },
  {
   "cell_type": "markdown",
   "id": "cc1f76ac",
   "metadata": {},
   "source": [
    "## Enviando o e-mail para todos os destinatarios:"
   ]
  },
  {
   "cell_type": "code",
   "execution_count": 18,
   "id": "72fc066a",
   "metadata": {},
   "outputs": [],
   "source": [
    "for dado in dados:\n",
    "    destinatario = dado[2]\n",
    "    nf = dado[3]\n",
    "    prazo = dado[1]\n",
    "    prazo = prazo.strftime(\"%d/%m/%Y\")\n",
    "    valor = dado[0]\n",
    "    assunto = 'E-MAIL TESTE | Atraso de pagamento'\n",
    "    mensagem = outlook.CreateItem(0)\n",
    "    mensagem.Display()\n",
    "    mensagem.To = destinatario\n",
    "    mensagem.Subject = assunto\n",
    "    corpo_mensagem = f'''\n",
    "    Prezado Cliente,\n",
    "\n",
    "    Verificamos um atraso no pagamento referente a NF {nf} com vencimento em {prazo} e valor total de R${valor:.2f}.\n",
    "    Gostaríamos de verificar se há algum problema que necessite de auxílio de nossa equipe. \n",
    "\n",
    "    Em caso de dúvidas, é só entrar em contato com nosso time atráves do e-mail tecobreiautomaticamentecompython@gmail.com\n",
    "\n",
    "    \n",
    "    Att,\n",
    "    Fábio Oliveira\n",
    "    '''\n",
    "    mensagem.Body = corpo_mensagem\n",
    "    mensagem._oleobj_.Invoke(*(64209,0,8,0,emissor))\n",
    "    mensagem.Save()\n",
    "    mensagem.Send()\n",
    "    "
   ]
  },
  {
   "cell_type": "code",
   "execution_count": 5,
   "id": "4f92f30d",
   "metadata": {},
   "outputs": [],
   "source": [
    "# envio automático de E-MAIL\n",
    "''''\n",
    "destinatario = 'fabio.oliveira2209@gmail.com'\n",
    "assunto = 'Olá, tudo bem?'\n",
    "mensagem = outlook.CreateItem(0)\n",
    "mensagem.Display()\n",
    "mensagem.To = destinatario\n",
    "mensagem.Subject = assunto\n",
    "corpo_mensagem = '''\n",
    "    #Oi, eu sou o Fábio, Parabéns, o teste de envio do e-mail automático usando o Python foi um sucesso!!!\n",
    "    '''\n",
    "mensagem.Body = corpo_mensagem\n",
    "mensagem._oleobj_.Invoke(*(64209,0,8,0,emissor))\n",
    "mensagem.Save()\n",
    "mensagem.Send()\n",
    "\n",
    "''''''\n",
    "    "
   ]
  }
 ],
 "metadata": {
  "kernelspec": {
   "display_name": "Python 3 (ipykernel)",
   "language": "python",
   "name": "python3"
  },
  "language_info": {
   "codemirror_mode": {
    "name": "ipython",
    "version": 3
   },
   "file_extension": ".py",
   "mimetype": "text/x-python",
   "name": "python",
   "nbconvert_exporter": "python",
   "pygments_lexer": "ipython3",
   "version": "3.9.12"
  }
 },
 "nbformat": 4,
 "nbformat_minor": 5
}
